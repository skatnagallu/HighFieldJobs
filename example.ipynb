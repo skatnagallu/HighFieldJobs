{
 "cells": [
  {
   "cell_type": "code",
   "execution_count": 1,
   "id": "417335d3-9d61-4d56-996b-3d670a62dcb1",
   "metadata": {},
   "outputs": [],
   "source": [
    "from pyiron import Project\n",
    "import HighFieldModule as hfm"
   ]
  },
  {
   "cell_type": "markdown",
   "id": "968f2a48-cb7c-46f2-a3d3-6aaa5eca75e6",
   "metadata": {
    "tags": []
   },
   "source": [
    "## Project folder"
   ]
  },
  {
   "cell_type": "code",
   "execution_count": 2,
   "id": "a839b0eb-bc06-4327-8771-0f0aace60e50",
   "metadata": {},
   "outputs": [],
   "source": [
    "pr = Project('NiTa_971_vacancy')"
   ]
  },
  {
   "cell_type": "markdown",
   "id": "e8c24165-c1f6-4b5e-a91c-49ebec1e0e0e",
   "metadata": {},
   "source": [
    "## Relaxation job"
   ]
  },
  {
   "cell_type": "code",
   "execution_count": 3,
   "id": "4066b8bd-5ea4-485c-a57f-be3eda846f73",
   "metadata": {},
   "outputs": [],
   "source": [
    "tj = pr.load('NiTa_fcc971_4VA') \n",
    "#Old finished job for structure. You can of course create your own structures from pyiron project instance"
   ]
  },
  {
   "cell_type": "code",
   "execution_count": 5,
   "id": "4d17f2b1-2993-4976-8e25-586636fb6ab5",
   "metadata": {},
   "outputs": [],
   "source": [
    "efield = 4\n",
    "zheight = 4.074"
   ]
  },
  {
   "cell_type": "code",
   "execution_count": 6,
   "id": "086c1a72-4290-4368-aafd-a7ec25e13ad2",
   "metadata": {},
   "outputs": [],
   "source": [
    "NiTaVac_job = hfm.HighFieldJob(pr,tj.get_structure(-1),'NiTa_4VA_fin_config_relax',\\\n",
    "                               e_field=efield,encut=500, kcut=[6,6,1])\n",
    "#this is a high field job instance, where you give the project instance from pyiron, strucure, job_name, electric\n",
    "# field, encut and kpoints. For eg., here I am using a structure from an already finished job.a"
   ]
  },
  {
   "cell_type": "code",
   "execution_count": 47,
   "id": "3dac2e26-b549-458d-be4c-9f54936664da",
   "metadata": {},
   "outputs": [
    {
     "name": "stdout",
     "output_type": "stream",
     "text": [
      "Setting calc_minimize\n",
      "WARNING:\n",
      "job.input.structure != job.structure. The current job.structure will overwrite any changes you may might have made to job.input.structure in the meantime. To disable this overwrite, set job.input.structure.read_only = True. To disable this warning, call job.load_structure_group() after making changes to job.structure.\n",
      "WARNING:\n",
      "Number of cores exceed number of irreducible reciprocal points: 18\n",
      "The job NiTa_4VA_fin_config_relax was saved and received the ID: 15988544\n",
      "Queue system id:  2521725\n"
     ]
    }
   ],
   "source": [
    "# run a relaxation job from the high field job instance\n",
    "NiTaVac_job.gdc_relaxation(zheight=zheight)"
   ]
  },
  {
   "cell_type": "code",
   "execution_count": 48,
   "id": "0bc68d1a-ba82-4293-993d-5085e0ce39e3",
   "metadata": {},
   "outputs": [
    {
     "data": {
      "text/html": [
       "<div>\n",
       "<style scoped>\n",
       "    .dataframe tbody tr th:only-of-type {\n",
       "        vertical-align: middle;\n",
       "    }\n",
       "\n",
       "    .dataframe tbody tr th {\n",
       "        vertical-align: top;\n",
       "    }\n",
       "\n",
       "    .dataframe thead th {\n",
       "        text-align: right;\n",
       "    }\n",
       "</style>\n",
       "<table border=\"1\" class=\"dataframe\">\n",
       "  <thead>\n",
       "    <tr style=\"text-align: right;\">\n",
       "      <th></th>\n",
       "      <th>id</th>\n",
       "      <th>status</th>\n",
       "      <th>chemicalformula</th>\n",
       "      <th>job</th>\n",
       "      <th>subjob</th>\n",
       "      <th>projectpath</th>\n",
       "      <th>project</th>\n",
       "      <th>timestart</th>\n",
       "      <th>timestop</th>\n",
       "      <th>totalcputime</th>\n",
       "      <th>computer</th>\n",
       "      <th>hamilton</th>\n",
       "      <th>hamversion</th>\n",
       "      <th>parentid</th>\n",
       "      <th>masterid</th>\n",
       "    </tr>\n",
       "  </thead>\n",
       "  <tbody>\n",
       "    <tr>\n",
       "      <th>1</th>\n",
       "      <td>15966243</td>\n",
       "      <td>aborted</td>\n",
       "      <td>Ni64Ta</td>\n",
       "      <td>NiTa_fcc971_4VA</td>\n",
       "      <td>/NiTa_fcc971_4VA</td>\n",
       "      <td>/cmmc/u/</td>\n",
       "      <td>skatnagallu/pyiron/projects/ChargedSlabs/NiTa_971_vacancy/</td>\n",
       "      <td>2021-10-27 08:24:56.072116</td>\n",
       "      <td>NaT</td>\n",
       "      <td>NaN</td>\n",
       "      <td>skatnagallu@cmti001#20#cm</td>\n",
       "      <td>Sphinx</td>\n",
       "      <td>2.6.2_default_mpi</td>\n",
       "      <td>None</td>\n",
       "      <td>None</td>\n",
       "    </tr>\n",
       "    <tr>\n",
       "      <th>3</th>\n",
       "      <td>15966246</td>\n",
       "      <td>aborted</td>\n",
       "      <td>Ni64Ta</td>\n",
       "      <td>NiTa_fcc971_noField</td>\n",
       "      <td>/NiTa_fcc971_noField</td>\n",
       "      <td>/cmmc/u/</td>\n",
       "      <td>skatnagallu/pyiron/projects/ChargedSlabs/NiTa_971_vacancy/</td>\n",
       "      <td>2021-10-27 08:26:36.272238</td>\n",
       "      <td>NaT</td>\n",
       "      <td>NaN</td>\n",
       "      <td>skatnagallu@cmti001#20#cm</td>\n",
       "      <td>Sphinx</td>\n",
       "      <td>2.6.2_default_mpi</td>\n",
       "      <td>None</td>\n",
       "      <td>None</td>\n",
       "    </tr>\n",
       "    <tr>\n",
       "      <th>0</th>\n",
       "      <td>15966250</td>\n",
       "      <td>finished</td>\n",
       "      <td>Ni65Ta</td>\n",
       "      <td>NiTa_fcc971_perfect_4VA</td>\n",
       "      <td>/NiTa_fcc971_perfect_4VA</td>\n",
       "      <td>/cmmc/u/</td>\n",
       "      <td>skatnagallu/pyiron/projects/ChargedSlabs/NiTa_971_vacancy/</td>\n",
       "      <td>2021-10-27 08:29:20.663738</td>\n",
       "      <td>2021-10-28 01:28:54.258813</td>\n",
       "      <td>61173.0</td>\n",
       "      <td>skatnagallu@cmti001#20#cm</td>\n",
       "      <td>Sphinx</td>\n",
       "      <td>2.6.2_default_mpi</td>\n",
       "      <td>None</td>\n",
       "      <td>None</td>\n",
       "    </tr>\n",
       "    <tr>\n",
       "      <th>2</th>\n",
       "      <td>15966251</td>\n",
       "      <td>finished</td>\n",
       "      <td>Ni65Ta</td>\n",
       "      <td>NiTa_fcc971_perfect_noField</td>\n",
       "      <td>/NiTa_fcc971_perfect_noField</td>\n",
       "      <td>/cmmc/u/</td>\n",
       "      <td>skatnagallu/pyiron/projects/ChargedSlabs/NiTa_971_vacancy/</td>\n",
       "      <td>2021-10-27 08:30:55.345049</td>\n",
       "      <td>2021-10-27 16:50:09.583471</td>\n",
       "      <td>29954.0</td>\n",
       "      <td>skatnagallu@cmti001#20#cm</td>\n",
       "      <td>Sphinx</td>\n",
       "      <td>2.6.2_default_mpi</td>\n",
       "      <td>None</td>\n",
       "      <td>None</td>\n",
       "    </tr>\n",
       "    <tr>\n",
       "      <th>4</th>\n",
       "      <td>15988544</td>\n",
       "      <td>running</td>\n",
       "      <td>Ni64Ta</td>\n",
       "      <td>NiTa_4VA_fin_config_relax</td>\n",
       "      <td>/NiTa_4VA_fin_config_relax</td>\n",
       "      <td>/cmmc/u/</td>\n",
       "      <td>skatnagallu/pyiron/projects/ChargedSlabs/NiTa_971_vacancy/</td>\n",
       "      <td>2021-11-03 14:13:13.175082</td>\n",
       "      <td>NaT</td>\n",
       "      <td>NaN</td>\n",
       "      <td>skatnagallu@cmti001#20#cm</td>\n",
       "      <td>Sphinx</td>\n",
       "      <td>2.6.2_default_mpi</td>\n",
       "      <td>None</td>\n",
       "      <td>None</td>\n",
       "    </tr>\n",
       "  </tbody>\n",
       "</table>\n",
       "</div>"
      ],
      "text/plain": [
       "         id    status chemicalformula                          job  \\\n",
       "1  15966243   aborted          Ni64Ta              NiTa_fcc971_4VA   \n",
       "3  15966246   aborted          Ni64Ta          NiTa_fcc971_noField   \n",
       "0  15966250  finished          Ni65Ta      NiTa_fcc971_perfect_4VA   \n",
       "2  15966251  finished          Ni65Ta  NiTa_fcc971_perfect_noField   \n",
       "4  15988544   running          Ni64Ta    NiTa_4VA_fin_config_relax   \n",
       "\n",
       "                         subjob projectpath  \\\n",
       "1              /NiTa_fcc971_4VA    /cmmc/u/   \n",
       "3          /NiTa_fcc971_noField    /cmmc/u/   \n",
       "0      /NiTa_fcc971_perfect_4VA    /cmmc/u/   \n",
       "2  /NiTa_fcc971_perfect_noField    /cmmc/u/   \n",
       "4    /NiTa_4VA_fin_config_relax    /cmmc/u/   \n",
       "\n",
       "                                                      project  \\\n",
       "1  skatnagallu/pyiron/projects/ChargedSlabs/NiTa_971_vacancy/   \n",
       "3  skatnagallu/pyiron/projects/ChargedSlabs/NiTa_971_vacancy/   \n",
       "0  skatnagallu/pyiron/projects/ChargedSlabs/NiTa_971_vacancy/   \n",
       "2  skatnagallu/pyiron/projects/ChargedSlabs/NiTa_971_vacancy/   \n",
       "4  skatnagallu/pyiron/projects/ChargedSlabs/NiTa_971_vacancy/   \n",
       "\n",
       "                   timestart                   timestop  totalcputime  \\\n",
       "1 2021-10-27 08:24:56.072116                        NaT           NaN   \n",
       "3 2021-10-27 08:26:36.272238                        NaT           NaN   \n",
       "0 2021-10-27 08:29:20.663738 2021-10-28 01:28:54.258813       61173.0   \n",
       "2 2021-10-27 08:30:55.345049 2021-10-27 16:50:09.583471       29954.0   \n",
       "4 2021-11-03 14:13:13.175082                        NaT           NaN   \n",
       "\n",
       "                    computer hamilton         hamversion parentid masterid  \n",
       "1  skatnagallu@cmti001#20#cm   Sphinx  2.6.2_default_mpi     None     None  \n",
       "3  skatnagallu@cmti001#20#cm   Sphinx  2.6.2_default_mpi     None     None  \n",
       "0  skatnagallu@cmti001#20#cm   Sphinx  2.6.2_default_mpi     None     None  \n",
       "2  skatnagallu@cmti001#20#cm   Sphinx  2.6.2_default_mpi     None     None  \n",
       "4  skatnagallu@cmti001#20#cm   Sphinx  2.6.2_default_mpi     None     None  "
      ]
     },
     "execution_count": 48,
     "metadata": {},
     "output_type": "execute_result"
    }
   ],
   "source": [
    "pr.job_table()"
   ]
  },
  {
   "cell_type": "markdown",
   "id": "d8d6b8a2-ec59-48e8-ab7e-371204813cca",
   "metadata": {},
   "source": [
    "## Methods to get stepped surfaces"
   ]
  },
  {
   "cell_type": "code",
   "execution_count": null,
   "id": "584232a6-d9da-40c4-9890-c8e95cd80007",
   "metadata": {},
   "outputs": [],
   "source": [
    "slab,h,s,k = NiTaVac_job.get_high_index_surface(element='Ni', crystal_structure='fcc', lattice_constant=3.5,\\\n",
    "                                                terrace_orientation=[1,1,1], step_orientation=[1,1,0],\\\n",
    "                                                kink_orientation=[1,1,0], step_down_vector=[1,1,0],\\\n",
    "                                                length_step = 4, layers=60)"
   ]
  },
  {
   "cell_type": "code",
   "execution_count": 15,
   "id": "56bcfa47-d250-4dc8-aed2-44d5fa882251",
   "metadata": {},
   "outputs": [
    {
     "data": {
      "application/vnd.jupyter.widget-view+json": {
       "model_id": "30d0f02c6d464e669befa578f81a20b2",
       "version_major": 2,
       "version_minor": 0
      },
      "text/plain": [
       "NGLWidget()"
      ]
     },
     "metadata": {},
     "output_type": "display_data"
    }
   ],
   "source": [
    "slab.repeat([3,3,1]).plot3d(particle_size=1.25)"
   ]
  },
  {
   "cell_type": "code",
   "execution_count": null,
   "id": "abe40e2f-0eb9-4d5a-a203-9332b47c9b33",
   "metadata": {},
   "outputs": [],
   "source": [
    "newslab = NiTaVac_job.get_slab(layers=60,hkl=h)"
   ]
  },
  {
   "cell_type": "code",
   "execution_count": 18,
   "id": "c8b5c720-db93-48db-98ea-30c62e6ee887",
   "metadata": {},
   "outputs": [
    {
     "data": {
      "application/vnd.jupyter.widget-view+json": {
       "model_id": "bc075cf8bb324703b105337a55d1772f",
       "version_major": 2,
       "version_minor": 0
      },
      "text/plain": [
       "NGLWidget()"
      ]
     },
     "metadata": {},
     "output_type": "display_data"
    }
   ],
   "source": [
    "newslab.repeat([3,3,1]).plot3d(particle_size=2.25)"
   ]
  },
  {
   "cell_type": "code",
   "execution_count": null,
   "id": "b1720355-80d4-4c46-b27a-28d537398158",
   "metadata": {},
   "outputs": [],
   "source": []
  }
 ],
 "metadata": {
  "kernelspec": {
   "display_name": "Python 3 (ipykernel)",
   "language": "python",
   "name": "python3"
  },
  "language_info": {
   "codemirror_mode": {
    "name": "ipython",
    "version": 3
   },
   "file_extension": ".py",
   "mimetype": "text/x-python",
   "name": "python",
   "nbconvert_exporter": "python",
   "pygments_lexer": "ipython3",
   "version": "3.8.12"
  }
 },
 "nbformat": 4,
 "nbformat_minor": 5
}
